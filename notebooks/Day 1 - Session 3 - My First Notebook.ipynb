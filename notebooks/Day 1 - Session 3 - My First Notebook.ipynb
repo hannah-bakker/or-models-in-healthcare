{
 "cells": [
  {
   "cell_type": "markdown",
   "metadata": {},
   "source": [
    "## Testing Your Installation\n",
    "\n",
    "To ensure that you have correctly installed all necessary dependencies for the course, run the following code cell.\n",
    "\n",
    "This test will:\n",
    "- Check if Python is running properly.\n",
    "- Verify that essential packages (`numpy`, `pandas`, `matplotlib`, `seaborn`, `scipy`, `jupyter`) are installed.\n",
    "- Print a confirmation message if everything is working.\n",
    "\n",
    "If any errors occur, ensure you have installed all required dependencies by following the setup instructions in the `README.md` file.\n"
   ]
  },
  {
   "cell_type": "code",
   "execution_count": 4,
   "metadata": {},
   "outputs": [
    {
     "name": "stdout",
     "output_type": "stream",
     "text": [
      "Python version: 3.9.21 (main, Dec 11 2024, 16:35:24) [MSC v.1929 64 bit (AMD64)]\n",
      "NumPy version: 1.26.4\n",
      "Pandas version: 2.2.3\n",
      "Matplotlib version: 3.9.2\n",
      "Seaborn version: 0.13.2\n",
      "SciPy version: 1.13.1\n",
      "\n",
      "All required packages are installed correctly!\n"
     ]
    }
   ],
   "source": [
    "# Testing basic installations\n",
    "import sys\n",
    "import numpy as np\n",
    "import pandas as pd\n",
    "import matplotlib\n",
    "import seaborn as sns\n",
    "import scipy\n",
    "\n",
    "print(\"Python version:\", sys.version)\n",
    "print(\"NumPy version:\", np.__version__)\n",
    "print(\"Pandas version:\", pd.__version__)\n",
    "print(\"Matplotlib version:\", matplotlib.__version__)\n",
    "print(\"Seaborn version:\", sns.__version__)\n",
    "print(\"SciPy version:\", scipy.__version__)\n",
    "\n",
    "print(\"\\nAll required packages are installed correctly!\")"
   ]
  },
  {
   "cell_type": "code",
   "execution_count": null,
   "metadata": {},
   "outputs": [],
   "source": []
  }
 ],
 "metadata": {
  "kernelspec": {
   "display_name": "Python (pbbvs)",
   "language": "python",
   "name": "pbbvs"
  },
  "language_info": {
   "codemirror_mode": {
    "name": "ipython",
    "version": 3
   },
   "file_extension": ".py",
   "mimetype": "text/x-python",
   "name": "python",
   "nbconvert_exporter": "python",
   "pygments_lexer": "ipython3",
   "version": "3.9.21"
  }
 },
 "nbformat": 4,
 "nbformat_minor": 2
}
