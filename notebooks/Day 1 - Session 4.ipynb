{
 "cells": [
  {
   "cell_type": "markdown",
   "metadata": {},
   "source": [
    "# Hands-On: Python 🐍 Fundamentals "
   ]
  },
  {
   "cell_type": "markdown",
   "metadata": {},
   "source": [
    "## (1) Running Python Code & Writing Comments\n",
    "\n",
    "Welcome to Python! Let's start with the basics of writing and running code in a Jupyter Notebook.\n",
    "\n",
    "### 🔹 How to Run a Code Cell\n",
    "- Click inside a **code cell** (the gray box below) and type Python code.\n",
    "- Press **Shift + Enter** to execute the code."
   ]
  },
  {
   "cell_type": "code",
   "execution_count": 2,
   "metadata": {},
   "outputs": [
    {
     "name": "stdout",
     "output_type": "stream",
     "text": [
      "You've successfully run some Python code\n",
      "Congratulations!\n"
     ]
    }
   ],
   "source": [
    "#Click Here and Press Shift+Enter\n",
    "print(\"You've successfully run some Python code\")\n",
    "print(\"Congratulations!\")"
   ]
  },
  {
   "cell_type": "markdown",
   "metadata": {},
   "source": [
    "### 🔹 Comments in Python\n",
    "Comments help explain code but do **not** affect execution.\n",
    "- **Single-line comments** start with `#`:\n",
    "  ```python\n",
    "  # This is a comment\n",
    "  print(\"Hello, World!\")\n",
    "  ```\n",
    "- **Multi-line comments** use triple quotes `'''` or `\"\"\"`:\n",
    "  ```python\n",
    "  \"\"\"\n",
    "  This is a multi-line comment.\n",
    "  It can span multiple lines.\n",
    "  \"\"\"\n",
    "  ```\n",
    "\n",
    "### 📌 Example: Run Commented Code\n",
    "Click into the code cell below and press **Shift + Enter**."
   ]
  },
  {
   "cell_type": "code",
   "execution_count": 8,
   "metadata": {},
   "outputs": [
    {
     "name": "stdout",
     "output_type": "stream",
     "text": [
      "This line will be executed!\n"
     ]
    }
   ],
   "source": [
    "# This is a single-line comment\n",
    "print(\"This line will be executed!\")  # This comment is ignored by Python\n",
    "\n",
    "# print(\"This line of code will not be executed\")\n"
   ]
  },
  {
   "cell_type": "markdown",
   "metadata": {},
   "source": [
    "### ✏️ Task: Write Your First Python Code\n",
    "Print **\"Hello, World!\"** by typing it in the code cell below and running it.\n",
    "\n",
    "`print` is a built in Python function that allows you to print text in the output cell."
   ]
  },
  {
   "cell_type": "code",
   "execution_count": null,
   "metadata": {},
   "outputs": [
    {
     "name": "stdout",
     "output_type": "stream",
     "text": [
      "Hello, World!\n"
     ]
    }
   ],
   "source": [
    "# Type your solution below and run the cell\n"
   ]
  },
  {
   "cell_type": "markdown",
   "metadata": {},
   "source": [
    "## (2) Understanding Variables & Data Types\n",
    "\n",
    "### 🔹 What is a Variable?\n",
    "A **variable** is a container for storing data. Think of it like a **labeled storage box**:\n",
    "- A variable name is the **label**.\n",
    "- The data inside is the **content**.\n",
    "- You can change the content anytime by assigning a new value.\n",
    "\n",
    "Example:\n",
    "```python\n",
    "box = \"Apples\"  # Assigns \"Apples\" to the variable 'box'\n",
    "print(box)  # Output: Apples\n",
    "box = \"Oranges\"  # Now the box contains \"Oranges\"\n",
    "print(box)  # Output: Oranges\n",
    "```\n",
    "\n",
    "\n",
    "### 🔹 Common Data Types in Python\n",
    "- **Integer (`int`)**: Whole numbers (e.g., `10`, `-5`)\n",
    "- **Floating Point (`float`)**: Decimal numbers (e.g., `3.14`, `-0.001`)\n",
    "- **String (`str`)**: Text values enclosed in quotes (e.g., `'hello'`, `\"Python\"`)\n",
    "- **Boolean (`bool`)**: Represents `True` or `False`\n",
    "\n",
    "### 📌 Example: Run the following code to see different data types in action.\n"
   ]
  },
  {
   "cell_type": "code",
   "execution_count": 3,
   "metadata": {},
   "outputs": [
    {
     "name": "stdout",
     "output_type": "stream",
     "text": [
      "Name: Alice\n",
      "Age: 25\n",
      "Height: 5.6\n",
      "Is student? True\n"
     ]
    }
   ],
   "source": [
    "name = \"Alice\"  # String\n",
    "age = 25  # Integer\n",
    "height = 5.6  # Float\n",
    "is_student = True  # Boolean\n",
    "\n",
    "print(\"Name:\", name)\n",
    "print(\"Age:\", age)\n",
    "print(\"Height:\", height)\n",
    "print(\"Is student?\", is_student)"
   ]
  },
  {
   "cell_type": "markdown",
   "metadata": {},
   "source": [
    "### 🔹 Checking Data Types\n",
    "Use the `type()` function to check the type of a variable.\n",
    "\n",
    "### 📌 Example: Check the data type of the variables below by running the cell."
   ]
  },
  {
   "cell_type": "code",
   "execution_count": null,
   "metadata": {},
   "outputs": [
    {
     "name": "stdout",
     "output_type": "stream",
     "text": [
      "<class 'str'>\n",
      "<class 'int'>\n",
      "<class 'float'>\n",
      "<class 'bool'>\n"
     ]
    }
   ],
   "source": [
    "print(type(name))  # Should print <class 'str'>\n",
    "print(type(age))   # Should print <class 'int'>\n",
    "print(type(height)) # Should print <class 'float'>\n",
    "print(type(is_student)) # Should print <class 'bool'>"
   ]
  },
  {
   "cell_type": "markdown",
   "metadata": {},
   "source": [
    "### 🔹 Type Conversion\n",
    "Convert between types using `int()`, `float()`, `str()`, and `bool()`.\n",
    "\n",
    "### 📌 Example: Convert a float to an int.\n"
   ]
  },
  {
   "cell_type": "code",
   "execution_count": 5,
   "metadata": {},
   "outputs": [
    {
     "name": "stdout",
     "output_type": "stream",
     "text": [
      "Original height (float): 5.6\n",
      "Converted height (int): 5\n"
     ]
    }
   ],
   "source": [
    "height_int = int(height)  # Convert float to int\n",
    "print(\"Original height (float):\", height)\n",
    "print(\"Converted height (int):\", height_int)"
   ]
  },
  {
   "cell_type": "markdown",
   "metadata": {},
   "source": [
    "What happened when converting the `float` to an `int`?"
   ]
  },
  {
   "cell_type": "markdown",
   "metadata": {},
   "source": [
    "Answer: Converting a `float` to an `int` means that the digits are simply \"cut-off\"."
   ]
  },
  {
   "cell_type": "markdown",
   "metadata": {},
   "source": [
    "### 🔹 Type Mismatch Errors\n",
    "Python does not allow operations between incompatible types, such as adding an integer to a string directly.\n",
    "\n",
    "### 📌 Example: This will cause an error\n"
   ]
  },
  {
   "cell_type": "code",
   "execution_count": 7,
   "metadata": {},
   "outputs": [
    {
     "ename": "TypeError",
     "evalue": "can only concatenate str (not \"int\") to str",
     "output_type": "error",
     "traceback": [
      "\u001b[1;31m---------------------------------------------------------------------------\u001b[0m",
      "\u001b[1;31mTypeError\u001b[0m                                 Traceback (most recent call last)",
      "Cell \u001b[1;32mIn[7], line 2\u001b[0m\n\u001b[0;32m      1\u001b[0m age \u001b[38;5;241m=\u001b[39m \u001b[38;5;241m25\u001b[39m\n\u001b[1;32m----> 2\u001b[0m \u001b[38;5;28mprint\u001b[39m(\u001b[38;5;124;43m\"\u001b[39;49m\u001b[38;5;124;43mI am \u001b[39;49m\u001b[38;5;124;43m\"\u001b[39;49m\u001b[43m \u001b[49m\u001b[38;5;241;43m+\u001b[39;49m\u001b[43m \u001b[49m\u001b[43mage\u001b[49m \u001b[38;5;241m+\u001b[39m \u001b[38;5;124m\"\u001b[39m\u001b[38;5;124m years old\u001b[39m\u001b[38;5;124m\"\u001b[39m)  \u001b[38;5;66;03m# This will cause a TypeError\u001b[39;00m\n",
      "\u001b[1;31mTypeError\u001b[0m: can only concatenate str (not \"int\") to str"
     ]
    }
   ],
   "source": [
    "age = 25\n",
    "print(\"I am \" + age + \" years old\")  # This will cause a TypeError"
   ]
  },
  {
   "cell_type": "markdown",
   "metadata": {},
   "source": [
    "To fix this, convert `age` to a string first:"
   ]
  },
  {
   "cell_type": "code",
   "execution_count": 8,
   "metadata": {},
   "outputs": [
    {
     "name": "stdout",
     "output_type": "stream",
     "text": [
      "I am 25 years old\n"
     ]
    }
   ],
   "source": [
    "print(\"I am \" + str(age) + \" years old\")"
   ]
  },
  {
   "cell_type": "markdown",
   "metadata": {},
   "source": [
    "### ✏️ Task: Debugging Type Errors\n",
    "1. Uncomment the code below and try running it. Observe the error message.\n",
    "2. Fix the error by converting the number to a string."
   ]
  },
  {
   "cell_type": "code",
   "execution_count": null,
   "metadata": {},
   "outputs": [
    {
     "name": "stdout",
     "output_type": "stream",
     "text": [
      "My age is 30\n"
     ]
    }
   ],
   "source": [
    "# Uncomment the next line to see the error\n",
    "# print(\"My age is \" + 30)  # Causes TypeError\n",
    "\n",
    "# Fix the error by converting the integer to a string\n"
   ]
  },
  {
   "cell_type": "markdown",
   "metadata": {},
   "source": [
    "### 🔹 Variable Assignment\n",
    "Variables can be reassigned new values at any time."
   ]
  },
  {
   "cell_type": "code",
   "execution_count": null,
   "metadata": {},
   "outputs": [
    {
     "name": "stdout",
     "output_type": "stream",
     "text": [
      "Updated age: 30\n"
     ]
    }
   ],
   "source": [
    "age = 30  # Assign a new value\n",
    "print(\"Updated age:\", age)"
   ]
  },
  {
   "cell_type": "markdown",
   "metadata": {},
   "source": [
    "## (3) Basic Math and Operators\n",
    "\n",
    "Python supports various mathematical operations:\n",
    "- **Arithmetic Operators:** `+`, `-`, `*`, `/`, `//` (floor division), `%` (modulus), `**` (exponentiation)\n",
    "- **Comparison Operators:** `==`, `!=`, `>`, `<`, `>=`, `<=`\n",
    "- **Logical Operators:** `and`, `or`, `not`\n",
    "\n",
    "### 📌 Example: Arithmetic Operations"
   ]
  },
  {
   "cell_type": "code",
   "execution_count": 17,
   "metadata": {},
   "outputs": [
    {
     "name": "stdout",
     "output_type": "stream",
     "text": [
      "Addition: 13\n",
      "Subtraction: 7\n",
      "Multiplication: 30\n",
      "Division: 3.3333333333333335\n",
      "Floor Division: 3\n",
      "Modulus: 1\n",
      "Exponentiation: 1000\n"
     ]
    }
   ],
   "source": [
    "a = 10\n",
    "b = 3\n",
    "print(\"Addition:\", a + b)\n",
    "print(\"Subtraction:\", a - b)\n",
    "print(\"Multiplication:\", a * b)\n",
    "print(\"Division:\", a / b)\n",
    "print(\"Floor Division:\", a // b)\n",
    "print(\"Modulus:\", a % b)\n",
    "print(\"Exponentiation:\", a ** b)\n"
   ]
  },
  {
   "cell_type": "markdown",
   "metadata": {},
   "source": [
    "### ✏️ Task: Compute the area of a rectangle with length 5 and width 10\n",
    "1. Assign values to `length` and `width`\n",
    "2. Compute `area = length * width`\n",
    "3. Print the result"
   ]
  },
  {
   "cell_type": "code",
   "execution_count": null,
   "metadata": {},
   "outputs": [
    {
     "name": "stdout",
     "output_type": "stream",
     "text": [
      "Area of the rectangle: 50\n"
     ]
    }
   ],
   "source": []
  },
  {
   "cell_type": "markdown",
   "metadata": {},
   "source": [
    "### 🔹 Operator Precedence\n",
    "Python follows standard mathematical order:\n",
    "1. **Parentheses `()`** - Highest priority\n",
    "2. **Exponents `**`**\n",
    "3. **Multiplication `*`, Division `/`, Floor Division `//`, Modulus `%`**\n",
    "4. **Addition `+`, Subtraction `-`**\n",
    "\n",
    "### 📌 Example: Observing Order of Operations"
   ]
  },
  {
   "cell_type": "code",
   "execution_count": 19,
   "metadata": {},
   "outputs": [
    {
     "name": "stdout",
     "output_type": "stream",
     "text": [
      "Without parentheses: 16\n",
      "With parentheses: 36\n",
      "Exponentiation comes first: 11\n",
      "Changing order with parentheses: 25\n"
     ]
    }
   ],
   "source": [
    "print(\"Without parentheses:\", 10 + 2 * 3)\n",
    "print(\"With parentheses:\", (10 + 2) * 3)\n",
    "print(\"Exponentiation comes first:\", 2 + 3 ** 2)\n",
    "print(\"Changing order with parentheses:\", (2 + 3) ** 2)"
   ]
  },
  {
   "cell_type": "markdown",
   "metadata": {},
   "source": [
    "### ✏️ Task: Predict the output before running\n",
    "1. `5 + 3 * 2`\n",
    "2. `(5 + 3) * 2`\n",
    "3. `10 - 2 ** 3`\n",
    "4. `(10 - 2) ** 3`\n",
    "\n",
    "Run the code below and see if your predictions were correct!"
   ]
  },
  {
   "cell_type": "code",
   "execution_count": null,
   "metadata": {},
   "outputs": [
    {
     "name": "stdout",
     "output_type": "stream",
     "text": [
      "5 + 3 * 2 = 11\n",
      "(5 + 3) * 2 = 16\n",
      "10 - 2 ** 3 = 2\n",
      "(10 - 2) ** 3 = 512\n"
     ]
    }
   ],
   "source": [
    "# Uncomment, to see if you are correct\n",
    "# print(\"5 + 3 * 2 =\", 5 + 3 * 2)\n",
    "# print(\"(5 + 3) * 2 =\", (5 + 3) * 2)\n",
    "# print(\"10 - 2 ** 3 =\", 10 - 2 ** 3)\n",
    "# print(\"(10 - 2) ** 3 =\", (10 - 2) ** 3)"
   ]
  },
  {
   "cell_type": "markdown",
   "metadata": {},
   "source": [
    "### 🔹 Comparison and Logical Operators\n",
    "Expressions may use  `==`, `!=`, `>`, `<`, `>=`, `<=`, `and`, `or`, and `not` as logical operators."
   ]
  },
  {
   "cell_type": "code",
   "execution_count": 10,
   "metadata": {},
   "outputs": [
    {
     "name": "stdout",
     "output_type": "stream",
     "text": [
      "Is x greater than y? False\n",
      "Is x equal to 7 and y greater than 5? True\n"
     ]
    }
   ],
   "source": [
    "x = 7\n",
    "y = 10\n",
    "print(\"Is x greater than y?\", x > y)\n",
    "print(\"Is x equal to 7 and y greater than 5?\", x == 7 and y > 5)\n"
   ]
  },
  {
   "cell_type": "markdown",
   "metadata": {},
   "source": [
    "## (4) Working with Strings\n",
    "\n",
    "Strings are sequences of characters enclosed in **single (`'`)** or **double (`\"`)** quotes.\n",
    "\n",
    "### 🔹 String Operations\n",
    "- **Concatenation (`+`)** → Joining two strings together\n",
    "- **Repetition (`*`)** → Repeating a string multiple times\n",
    "- **Indexing (`[]`)** → Accessing specific characters\n",
    "- **Slicing (`[:]`)** → Extracting a substring\n",
    "- **Length (`len()`)** → Getting the length of a string\n",
    "\n",
    "### 📌 Example: String Operations"
   ]
  },
  {
   "cell_type": "code",
   "execution_count": 23,
   "metadata": {},
   "outputs": [
    {
     "name": "stdout",
     "output_type": "stream",
     "text": [
      "Concatenation: Python is fun!\n",
      "Repetition: PythonPythonPython\n",
      "Indexing (first letter): P\n",
      "Slicing (first 3 letters): Pyt\n",
      "Length of string: 6\n"
     ]
    }
   ],
   "source": [
    "text = \"Python\"\n",
    "print(\"Concatenation:\", text + \" is fun!\")\n",
    "print(\"Repetition:\", text * 3)\n",
    "print(\"Indexing (first letter):\", text[0])\n",
    "print(\"Slicing (first 3 letters):\", text[:3])\n",
    "print(\"Length of string:\", len(text))"
   ]
  },
  {
   "cell_type": "markdown",
   "metadata": {},
   "source": [
    "### 🔹 String Formatting with f-strings\n",
    "f-strings allow inserting variables inside a string using `{}`.\n",
    "\n",
    "### 📌 Example: Using f-strings"
   ]
  },
  {
   "cell_type": "code",
   "execution_count": 24,
   "metadata": {},
   "outputs": [
    {
     "name": "stdout",
     "output_type": "stream",
     "text": [
      "My name is Alice and I am 25 years old.\n"
     ]
    }
   ],
   "source": [
    "name = \"Alice\"\n",
    "age = 25\n",
    "print(f\"My name is {name} and I am {age} years old.\")"
   ]
  },
  {
   "cell_type": "markdown",
   "metadata": {},
   "source": [
    "### 📌 Example: Extract and format text\n",
    "1. Extract the last letter of the string \"Programming\".\n",
    "2. Convert the string to uppercase using the function `upper`\n",
    "3. Print `\"Hello, my name is X and I love Python!\"` using f-strings."
   ]
  },
  {
   "cell_type": "code",
   "execution_count": 25,
   "metadata": {},
   "outputs": [
    {
     "name": "stdout",
     "output_type": "stream",
     "text": [
      "Last letter: g\n",
      "Uppercase: PROGRAMMING\n",
      "Hello, my name is Your Name and I love Python!\n"
     ]
    }
   ],
   "source": [
    "word = \"Programming\"\n",
    "print(\"Last letter:\", word[-1])\n",
    "print(\"Uppercase:\", word.upper())\n",
    "name = \"Your Name\"  # Change this\n",
    "print(f\"Hello, my name is {name} and I love Python!\")"
   ]
  },
  {
   "cell_type": "markdown",
   "metadata": {},
   "source": [
    "### 🔹 Experiment: String Slicing\n",
    "\n",
    "### ✏️ Task: Modify and analyze strings\n",
    "1. Extract the word \"Python\" from `sentence = \"I am learning Python!\"`.\n",
    "2. Reverse the string \"Python\" using slicing."
   ]
  },
  {
   "cell_type": "code",
   "execution_count": null,
   "metadata": {},
   "outputs": [
    {
     "name": "stdout",
     "output_type": "stream",
     "text": [
      "Extracted word: Python\n",
      "Reversed string: nohtyP\n"
     ]
    }
   ],
   "source": []
  },
  {
   "cell_type": "markdown",
   "metadata": {},
   "source": [
    "## (5) Working with Lists\n",
    "\n",
    "A **list** is an ordered collection of items, which can be of different types.\n",
    "\n",
    "### 🔹 Creating Lists\n",
    "Lists are defined using square brackets `[]` and can contain numbers, strings, or a mix of data types.\n",
    "\n",
    "### 📌 Example: Creating and Printing Lists"
   ]
  },
  {
   "cell_type": "code",
   "execution_count": 28,
   "metadata": {},
   "outputs": [
    {
     "name": "stdout",
     "output_type": "stream",
     "text": [
      "Numbers: [1, 2, 3, 4, 5]\n",
      "Fruits: ['apple', 'banana', 'cherry']\n",
      "Mixed List: [10, 'hello', 3.14, True]\n"
     ]
    }
   ],
   "source": [
    "numbers = [1, 2, 3, 4, 5]\n",
    "fruits = [\"apple\", \"banana\", \"cherry\"]\n",
    "mixed = [10, \"hello\", 3.14, True]\n",
    "\n",
    "print(\"Numbers:\", numbers)\n",
    "print(\"Fruits:\", fruits)\n",
    "print(\"Mixed List:\", mixed)"
   ]
  },
  {
   "cell_type": "markdown",
   "metadata": {},
   "source": [
    "### 🔹 List Indexing and Slicing\n",
    "You can access elements using **indexing (`[]`)**:\n",
    "- First item: `list[0]`\n",
    "- Last item: `list[-1]`\n",
    "- Slicing: `list[start:end]`\n",
    "\n",
    "### 📌 Example: Accessing List Elements"
   ]
  },
  {
   "cell_type": "code",
   "execution_count": 29,
   "metadata": {},
   "outputs": [
    {
     "name": "stdout",
     "output_type": "stream",
     "text": [
      "First element: 10\n",
      "Last element: 50\n",
      "First three elements: [10, 20, 30]\n",
      "Last two elements: [40, 50]\n"
     ]
    }
   ],
   "source": [
    "numbers = [10, 20, 30, 40, 50]\n",
    "print(\"First element:\", numbers[0])\n",
    "print(\"Last element:\", numbers[-1])\n",
    "print(\"First three elements:\", numbers[:3])\n",
    "print(\"Last two elements:\", numbers[-2:])"
   ]
  },
  {
   "cell_type": "markdown",
   "metadata": {},
   "source": [
    "### 🔹 Modifying Lists\n",
    "Lists are **mutable**, meaning you can change elements, add new ones, or remove existing ones.\n",
    "\n",
    "### 📌 Example: Modifying Lists"
   ]
  },
  {
   "cell_type": "code",
   "execution_count": 30,
   "metadata": {},
   "outputs": [
    {
     "name": "stdout",
     "output_type": "stream",
     "text": [
      "Modified list: [99, 20, 40, 50, 60]\n"
     ]
    }
   ],
   "source": [
    "numbers[0] = 99  # Changing first element\n",
    "numbers.append(60)  # Adding a new element\n",
    "numbers.remove(30)  # Removing an element\n",
    "print(\"Modified list:\", numbers)"
   ]
  },
  {
   "cell_type": "markdown",
   "metadata": {},
   "source": [
    "### 🔹 List Comprehensions\n",
    "List comprehensions provide a **concise way** to create lists.\n",
    "\n",
    "### 📌 Example: Generating a List with List Comprehensions"
   ]
  },
  {
   "cell_type": "code",
   "execution_count": 11,
   "metadata": {},
   "outputs": [
    {
     "name": "stdout",
     "output_type": "stream",
     "text": [
      "Squares: [1, 4, 9, 16, 25]\n",
      "Even numbers: [0, 2, 4, 6, 8]\n"
     ]
    }
   ],
   "source": [
    "squares = [x ** 2 for x in range(1, 6)]\n",
    "even_numbers = [x for x in range(10) if x % 2 == 0]\n",
    "\n",
    "print(\"Squares:\", squares)\n",
    "print(\"Even numbers:\", even_numbers)"
   ]
  },
  {
   "cell_type": "markdown",
   "metadata": {},
   "source": [
    "### 📌 Example: List Operations\n",
    "1. Create a list of your three favorite colors.\n",
    "2. Add a new color to the list.\n",
    "3. Remove the second color.\n",
    "4. Print the modified list."
   ]
  },
  {
   "cell_type": "code",
   "execution_count": 32,
   "metadata": {},
   "outputs": [
    {
     "name": "stdout",
     "output_type": "stream",
     "text": [
      "Modified favorite colors: ['blue', 'red', 'yellow']\n"
     ]
    }
   ],
   "source": [
    "favorite_colors = [\"blue\", \"green\", \"red\"]\n",
    "favorite_colors.append(\"yellow\")  # Adding a new color\n",
    "del favorite_colors[1]  # Removing second color\n",
    "print(\"Modified favorite colors:\", favorite_colors)"
   ]
  },
  {
   "cell_type": "markdown",
   "metadata": {},
   "source": [
    "### ✏️ Tasks: Work with lists.\n",
    "\n",
    "1. Create a list of the first 10 odd numbers using list comprehension.\n",
    "2. Reverse a list without using `.reverse()`.\n",
    "3. Extract only the words that start with 'a' from `words = [\"apple\", \"banana\", \"avocado\", \"grape\"]`."
   ]
  },
  {
   "cell_type": "code",
   "execution_count": null,
   "metadata": {},
   "outputs": [
    {
     "name": "stdout",
     "output_type": "stream",
     "text": [
      "Odd numbers: [1, 3, 5, 7, 9, 11, 13, 15, 17, 19]\n",
      "Reversed list: [5, 4, 3, 2, 1]\n",
      "Words starting with 'a': ['apple', 'avocado']\n"
     ]
    }
   ],
   "source": []
  },
  {
   "cell_type": "markdown",
   "metadata": {},
   "source": [
    "## (6) Working with Dictionaries\n",
    "\n",
    "Dictionaries (`dict`) in Python are **key-value pairs** used to store and retrieve data efficiently.\n",
    "\n",
    "### 🔹 Why Use Dictionaries?\n",
    "- Faster lookups compared to lists.\n",
    "- Useful for organizing related data.\n",
    "- Keys provide meaningful access to values.\n",
    "\n",
    "### 🔹 Creating a Dictionary\n",
    "A dictionary is defined using curly braces `{}`:\n",
    "```python\n",
    "student = {\n",
    "    \"name\": \"Alice\",\n",
    "    \"age\": 25,\n",
    "    \"grade\": \"A\"\n",
    "}\n",
    "```\n",
    "\n",
    "### 📌 Example: Accessing Dictionary Elements"
   ]
  },
  {
   "cell_type": "code",
   "execution_count": 12,
   "metadata": {},
   "outputs": [
    {
     "name": "stdout",
     "output_type": "stream",
     "text": [
      "Student Name: Alice\n",
      "Student Age: 25\n",
      "Student Grade: A\n"
     ]
    }
   ],
   "source": [
    "student = {\n",
    "    \"name\": \"Alice\",\n",
    "    \"age\": 25,\n",
    "    \"grade\": \"A\"\n",
    "}\n",
    "\n",
    "print(\"Student Name:\", student[\"name\"])\n",
    "print(\"Student Age:\", student[\"age\"])\n",
    "print(\"Student Grade:\", student[\"grade\"])\n"
   ]
  },
  {
   "cell_type": "markdown",
   "metadata": {},
   "source": [
    "### 🔹 Modifying and Adding Elements to a Dictionary\n",
    "Dictionaries are **mutable**, meaning we can update or add key-value pairs.\n",
    "\n",
    "### 📌 Example: Modifying a Dictionary"
   ]
  },
  {
   "cell_type": "code",
   "execution_count": 13,
   "metadata": {},
   "outputs": [
    {
     "name": "stdout",
     "output_type": "stream",
     "text": [
      "Updated Dictionary: {'name': 'Alice', 'age': 26, 'grade': 'A', 'major': 'Computer Science'}\n"
     ]
    }
   ],
   "source": [
    "student[\"age\"] = 26  # Update existing value\n",
    "student[\"major\"] = \"Computer Science\"  # Add new key-value pair\n",
    "\n",
    "print(\"Updated Dictionary:\", student)\n"
   ]
  },
  {
   "cell_type": "markdown",
   "metadata": {},
   "source": [
    "### 🔹 Looping Through a Dictionary\n",
    "We can loop through a dictionary using `.items()`, `.keys()`, or `.values()`.\n",
    "\n",
    "### 📌 Example: Iterating Over a Dictionary"
   ]
  },
  {
   "cell_type": "code",
   "execution_count": 14,
   "metadata": {},
   "outputs": [
    {
     "name": "stdout",
     "output_type": "stream",
     "text": [
      "name: Alice\n",
      "age: 26\n",
      "grade: A\n",
      "major: Computer Science\n"
     ]
    }
   ],
   "source": [
    "for key, value in student.items():\n",
    "    print(f\"{key}: {value}\")\n"
   ]
  },
  {
   "cell_type": "markdown",
   "metadata": {},
   "source": [
    "### ✏️ Task: Work with Dictionaries\n",
    "1. Create a dictionary called `car` with keys **brand**, **model**, and **year**.\n",
    "2. Print the **model** of the car.\n",
    "3. Add a new key called **color** and assign a value.\n",
    "4. Print the updated dictionary.\n",
    "\n",
    "Modify the code below to complete the tasks!"
   ]
  },
  {
   "cell_type": "code",
   "execution_count": null,
   "metadata": {},
   "outputs": [
    {
     "name": "stdout",
     "output_type": "stream",
     "text": [
      "Car Model: Corolla\n",
      "Updated Car Dictionary: {'brand': 'Toyota', 'model': 'Corolla', 'year': 2020, 'color': 'Blue'}\n"
     ]
    }
   ],
   "source": []
  },
  {
   "cell_type": "markdown",
   "metadata": {},
   "source": [
    "## (7) Defining and Using Functions\n",
    "\n",
    "A **function** is a reusable block of code that performs a specific task.\n",
    "\n",
    "### 🔹 Defining Functions\n",
    "- Use the `def` keyword to define a function.\n",
    "- Functions can take **parameters** (inputs) and **return** values.\n",
    "\n",
    "### 📌 Example: Defining and Calling a Function"
   ]
  },
  {
   "cell_type": "code",
   "execution_count": 35,
   "metadata": {},
   "outputs": [
    {
     "name": "stdout",
     "output_type": "stream",
     "text": [
      "Sum: 8\n",
      "Sum: 30\n"
     ]
    }
   ],
   "source": [
    "# Definition of the function\n",
    "# Function name: add_numbers\n",
    "# Arguments: a, b\n",
    "def add_numbers(a, b):\n",
    "    # Function body\n",
    "    sum = a+b\n",
    "    # Returning the result\n",
    "    return sum\n",
    "\n",
    "print(\"Sum:\", add_numbers(5, 3))\n",
    "print(\"Sum:\", add_numbers(10, 20))"
   ]
  },
  {
   "cell_type": "markdown",
   "metadata": {},
   "source": [
    "### ✏️ Task: Write Your Own Function\n",
    "1. Define a function `square` that takes a number and returns its square.\n",
    "2. Call your function with different values and print the result."
   ]
  },
  {
   "cell_type": "code",
   "execution_count": null,
   "metadata": {},
   "outputs": [
    {
     "name": "stdout",
     "output_type": "stream",
     "text": [
      "Square of 4: 16\n",
      "Square of 7: 49\n"
     ]
    }
   ],
   "source": [
    "\n"
   ]
  },
  {
   "cell_type": "markdown",
   "metadata": {},
   "source": [
    "## (7) Loops in Python\n",
    "\n",
    "Loops allow us to **repeat** a block of code multiple times.\n",
    "\n",
    "### 🔹 `for` Loops\n",
    "A `for` loop iterates over a sequence (list, string, range, etc.).\n",
    "\n",
    "### 📌 Example: Using a `for` Loop"
   ]
  },
  {
   "cell_type": "code",
   "execution_count": 37,
   "metadata": {},
   "outputs": [
    {
     "name": "stdout",
     "output_type": "stream",
     "text": [
      "Iteration 1\n",
      "Iteration 2\n",
      "Iteration 3\n",
      "Iteration 4\n",
      "Iteration 5\n"
     ]
    }
   ],
   "source": [
    "for i in range(1, 6):\n",
    "    print(f\"Iteration {i}\")"
   ]
  },
  {
   "cell_type": "markdown",
   "metadata": {},
   "source": [
    "### 🔹 `while` Loops\n",
    "A `while` loop runs **as long as** a condition is `True`.\n",
    "\n",
    "### 📌 Example: Using a `while` Loop"
   ]
  },
  {
   "cell_type": "code",
   "execution_count": 38,
   "metadata": {},
   "outputs": [
    {
     "name": "stdout",
     "output_type": "stream",
     "text": [
      "Count: 0\n",
      "Count: 1\n",
      "Count: 2\n",
      "Count: 3\n",
      "Count: 4\n"
     ]
    }
   ],
   "source": [
    "count = 0\n",
    "while count < 5:\n",
    "    print(f\"Count: {count}\")\n",
    "    count += 1"
   ]
  },
  {
   "cell_type": "markdown",
   "metadata": {},
   "source": [
    "### ✏️ Task: Create a Loop\n",
    "1. Use a `while` loop to print numbers from 10 down to 1."
   ]
  },
  {
   "cell_type": "code",
   "execution_count": null,
   "metadata": {},
   "outputs": [
    {
     "name": "stdout",
     "output_type": "stream",
     "text": [
      "10\n",
      "9\n",
      "8\n",
      "7\n",
      "6\n",
      "5\n",
      "4\n",
      "3\n",
      "2\n",
      "1\n"
     ]
    }
   ],
   "source": [
    "\n"
   ]
  },
  {
   "cell_type": "markdown",
   "metadata": {},
   "source": [
    "## (8) Conditional Statements (`if` Statements)\n",
    "\n",
    "Conditional statements allow the program to make decisions based on conditions.\n",
    "\n",
    "### 🔹 `if`, `elif`, and `else`\n",
    "- The `if` statement checks a condition and executes code if it's `True`.\n",
    "- The `elif` (else-if) statement allows checking multiple conditions.\n",
    "- The `else` statement runs when none of the conditions are `True`.\n",
    "\n",
    "### 📌 Example: Basic `if` Statement"
   ]
  },
  {
   "cell_type": "code",
   "execution_count": 40,
   "metadata": {},
   "outputs": [
    {
     "name": "stdout",
     "output_type": "stream",
     "text": [
      "You are an adult!\n"
     ]
    }
   ],
   "source": [
    "age = 20\n",
    "if age >= 18:\n",
    "    print(\"You are an adult!\")\n",
    "else:\n",
    "    print(\"You are a minor!\")\n"
   ]
  },
  {
   "cell_type": "markdown",
   "metadata": {},
   "source": [
    "### 📌 Example: Using `elif` for Multiple Conditions\n"
   ]
  },
  {
   "cell_type": "code",
   "execution_count": 41,
   "metadata": {},
   "outputs": [
    {
     "name": "stdout",
     "output_type": "stream",
     "text": [
      "Grade: B\n"
     ]
    }
   ],
   "source": [
    "score = 85\n",
    "if score >= 90:\n",
    "    print(\"Grade: A\")\n",
    "elif score >= 80:\n",
    "    print(\"Grade: B\")\n",
    "elif score >= 70:\n",
    "    print(\"Grade: C\")\n",
    "else:\n",
    "    print(\"Grade: F\")"
   ]
  },
  {
   "cell_type": "markdown",
   "metadata": {},
   "source": [
    "### ✏️ Task: Combining Functions, Loops, and Conditionals\n",
    "\n",
    "Below are **four** tasks combining functions, loops, and conditional statements. Try solving them to reinforce your understanding!\n",
    "\n",
    "#### Task 1: Even or Odd Checker\n",
    "1. Write a function `check_even_odd(n)` that prints whether a number is even or odd.\n",
    "2. Use a loop to check numbers from 1 to 20."
   ]
  },
  {
   "cell_type": "code",
   "execution_count": null,
   "metadata": {},
   "outputs": [
    {
     "name": "stdout",
     "output_type": "stream",
     "text": [
      "1 is odd\n",
      "2 is even\n",
      "3 is odd\n",
      "4 is even\n",
      "5 is odd\n",
      "6 is even\n",
      "7 is odd\n",
      "8 is even\n",
      "9 is odd\n",
      "10 is even\n",
      "11 is odd\n",
      "12 is even\n",
      "13 is odd\n",
      "14 is even\n",
      "15 is odd\n",
      "16 is even\n",
      "17 is odd\n",
      "18 is even\n",
      "19 is odd\n",
      "20 is even\n"
     ]
    }
   ],
   "source": []
  },
  {
   "cell_type": "markdown",
   "metadata": {},
   "source": [
    "#### Task 2: Sum of Multiples of 3\n",
    "1. Write a loop to find the sum of all multiples of `3` from `1` to `300`.\n",
    "2. Print the result."
   ]
  },
  {
   "cell_type": "code",
   "execution_count": null,
   "metadata": {},
   "outputs": [
    {
     "name": "stdout",
     "output_type": "stream",
     "text": [
      "Sum of multiples of 3 from 1 to 300: 15150\n"
     ]
    }
   ],
   "source": []
  },
  {
   "cell_type": "markdown",
   "metadata": {},
   "source": [
    "#### Task 3: Factorial Calculation\n",
    "1. Write a function `factorial(n)` that calculates the factorial of a number using a loop.\n",
    "2. Use this function to calculate and print the factorial of `5`.\n",
    "3. Example: `factorial(5)` → `5 * 4 * 3 * 2 * 1 = 120`\n",
    "\n",
    "What is the factorial of 49? How many digits does it have?"
   ]
  },
  {
   "cell_type": "code",
   "execution_count": null,
   "metadata": {},
   "outputs": [
    {
     "name": "stdout",
     "output_type": "stream",
     "text": [
      "Factorial of 49: 608281864034267560872252163321295376887552831379210240000000000 , with  63  digits.\n"
     ]
    }
   ],
   "source": []
  }
 ],
 "metadata": {
  "kernelspec": {
   "display_name": "Python (pbbvs)",
   "language": "python",
   "name": "pbbvs"
  },
  "language_info": {
   "codemirror_mode": {
    "name": "ipython",
    "version": 3
   },
   "file_extension": ".py",
   "mimetype": "text/x-python",
   "name": "python",
   "nbconvert_exporter": "python",
   "pygments_lexer": "ipython3",
   "version": "3.9.21"
  }
 },
 "nbformat": 4,
 "nbformat_minor": 2
}
